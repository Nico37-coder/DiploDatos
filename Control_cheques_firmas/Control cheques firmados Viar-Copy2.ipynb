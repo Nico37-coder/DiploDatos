{
 "cells": [
  {
   "cell_type": "markdown",
   "id": "bf26ee59",
   "metadata": {},
   "source": [
    "# Automatización de procedimiento de control de cheques con 2 firmas"
   ]
  },
  {
   "cell_type": "raw",
   "id": "ed617246",
   "metadata": {},
   "source": [
    "Descripción:\n",
    "Programa que permite identificar los cheques firmados y utilizados en la base de datos del sistema de gestión. "
   ]
  },
  {
   "cell_type": "raw",
   "id": "35e06dba",
   "metadata": {},
   "source": [
    "Pasos: \n",
    "a) Crear una lista con los cheques firmados(listaA) y no usados.\n",
    "b) Crear una lista con los cheques totales usados del sistema de gestión(listaB).\n",
    "c) Iterar listaB(usados) buscando si hay valores de  la listaA(no usados).\n",
    "d) Devuelver lista con los cheques firmados y usados(listaC) "
   ]
  },
  {
   "cell_type": "code",
   "execution_count": 1,
   "id": "977c1e67",
   "metadata": {},
   "outputs": [],
   "source": [
    "import pandas as pd\n",
    "import numpy as np"
   ]
  },
  {
   "cell_type": "code",
   "execution_count": 2,
   "id": "25e95db0",
   "metadata": {},
   "outputs": [
    {
     "data": {
      "text/html": [
       "<div>\n",
       "<style scoped>\n",
       "    .dataframe tbody tr th:only-of-type {\n",
       "        vertical-align: middle;\n",
       "    }\n",
       "\n",
       "    .dataframe tbody tr th {\n",
       "        vertical-align: top;\n",
       "    }\n",
       "\n",
       "    .dataframe thead th {\n",
       "        text-align: right;\n",
       "    }\n",
       "</style>\n",
       "<table border=\"1\" class=\"dataframe\">\n",
       "  <thead>\n",
       "    <tr style=\"text-align: right;\">\n",
       "      <th></th>\n",
       "      <th>cheques firmados</th>\n",
       "      <th>Banco</th>\n",
       "    </tr>\n",
       "  </thead>\n",
       "  <tbody>\n",
       "    <tr>\n",
       "      <th>0</th>\n",
       "      <td>29034926</td>\n",
       "      <td>Macro</td>\n",
       "    </tr>\n",
       "    <tr>\n",
       "      <th>1</th>\n",
       "      <td>29034927</td>\n",
       "      <td>Macro</td>\n",
       "    </tr>\n",
       "    <tr>\n",
       "      <th>2</th>\n",
       "      <td>29034928</td>\n",
       "      <td>Macro</td>\n",
       "    </tr>\n",
       "    <tr>\n",
       "      <th>3</th>\n",
       "      <td>29034929</td>\n",
       "      <td>Macro</td>\n",
       "    </tr>\n",
       "    <tr>\n",
       "      <th>4</th>\n",
       "      <td>29034930</td>\n",
       "      <td>Macro</td>\n",
       "    </tr>\n",
       "  </tbody>\n",
       "</table>\n",
       "</div>"
      ],
      "text/plain": [
       "   cheques firmados  Banco\n",
       "0          29034926  Macro\n",
       "1          29034927  Macro\n",
       "2          29034928  Macro\n",
       "3          29034929  Macro\n",
       "4          29034930  Macro"
      ]
     },
     "execution_count": 2,
     "metadata": {},
     "output_type": "execute_result"
    }
   ],
   "source": [
    "# Importar archivo excel con el listado de los cheques firmados y no usados.\n",
    "data = pd.read_excel(r\"C:\\Users\\User\\Documents\\GitHub\\DiploDatos\\Control_cheques_firmas\\Cheques_firmados.xlsx\")\n",
    "data.head(5)"
   ]
  },
  {
   "cell_type": "code",
   "execution_count": 3,
   "id": "b89fa918",
   "metadata": {},
   "outputs": [
    {
     "data": {
      "text/html": [
       "<div>\n",
       "<style scoped>\n",
       "    .dataframe tbody tr th:only-of-type {\n",
       "        vertical-align: middle;\n",
       "    }\n",
       "\n",
       "    .dataframe tbody tr th {\n",
       "        vertical-align: top;\n",
       "    }\n",
       "\n",
       "    .dataframe thead th {\n",
       "        text-align: right;\n",
       "    }\n",
       "</style>\n",
       "<table border=\"1\" class=\"dataframe\">\n",
       "  <thead>\n",
       "    <tr style=\"text-align: right;\">\n",
       "      <th></th>\n",
       "      <th>Fecha Estimada</th>\n",
       "      <th>Fecha Vencimiento</th>\n",
       "      <th>Fecha Emisión</th>\n",
       "      <th>Valor</th>\n",
       "      <th>Operador Comercial</th>\n",
       "      <th>Caja/Cuenta/Persona</th>\n",
       "      <th>Tipo Valor</th>\n",
       "      <th>Estado</th>\n",
       "      <th>Banco</th>\n",
       "      <th>Moneda</th>\n",
       "      <th>Importe</th>\n",
       "      <th>Número Interno</th>\n",
       "      <th>Librador</th>\n",
       "      <th>Acréditado / Débitado</th>\n",
       "      <th>Esquema Operativo</th>\n",
       "    </tr>\n",
       "  </thead>\n",
       "  <tbody>\n",
       "    <tr>\n",
       "      <th>0</th>\n",
       "      <td>2020-07-03</td>\n",
       "      <td>2020-07-03</td>\n",
       "      <td>2020-07-03</td>\n",
       "      <td>20014863</td>\n",
       "      <td>ARCOR S.A.I.C.</td>\n",
       "      <td>Retencion de Ganancias</td>\n",
       "      <td>Retencion Ganancias</td>\n",
       "      <td>NaN</td>\n",
       "      <td>NaN</td>\n",
       "      <td>Pesos</td>\n",
       "      <td>1291.47</td>\n",
       "      <td>0</td>\n",
       "      <td>NaN</td>\n",
       "      <td>0.0</td>\n",
       "      <td>NaN</td>\n",
       "    </tr>\n",
       "    <tr>\n",
       "      <th>1</th>\n",
       "      <td>2018-12-07</td>\n",
       "      <td>2018-12-07</td>\n",
       "      <td>2018-11-09</td>\n",
       "      <td>19610000 BANCO DE LA PROVINCIA DE CORDOBA</td>\n",
       "      <td>BELTRAMO MARIELA</td>\n",
       "      <td>3693/03</td>\n",
       "      <td>Cheque Propio Diferido</td>\n",
       "      <td>NaN</td>\n",
       "      <td>BANCO DE LA PROVINCIA DE CORDOBA</td>\n",
       "      <td>Pesos</td>\n",
       "      <td>1872.33</td>\n",
       "      <td>0</td>\n",
       "      <td>NaN</td>\n",
       "      <td>1.0</td>\n",
       "      <td>NaN</td>\n",
       "    </tr>\n",
       "    <tr>\n",
       "      <th>2</th>\n",
       "      <td>2019-08-05</td>\n",
       "      <td>2019-08-05</td>\n",
       "      <td>2019-07-10</td>\n",
       "      <td>90700789 BANCO MACRO S.A.</td>\n",
       "      <td>GUAL RUBEN DARIO</td>\n",
       "      <td>3/378/0000624968/0</td>\n",
       "      <td>Cheque Propio Diferido</td>\n",
       "      <td>NaN</td>\n",
       "      <td>BANCO MACRO S.A.</td>\n",
       "      <td>Pesos</td>\n",
       "      <td>21430.72</td>\n",
       "      <td>0</td>\n",
       "      <td>NaN</td>\n",
       "      <td>1.0</td>\n",
       "      <td>NaN</td>\n",
       "    </tr>\n",
       "    <tr>\n",
       "      <th>3</th>\n",
       "      <td>2017-07-10</td>\n",
       "      <td>2017-07-10</td>\n",
       "      <td>2017-03-20</td>\n",
       "      <td>11219864 BANCO DE LA PROVINCIA DE CORDOBA</td>\n",
       "      <td>MININ MANUEL FRANCISCO</td>\n",
       "      <td>3693/03</td>\n",
       "      <td>Cheque Propio Diferido</td>\n",
       "      <td>NaN</td>\n",
       "      <td>BANCO DE LA PROVINCIA DE CORDOBA</td>\n",
       "      <td>Pesos</td>\n",
       "      <td>8206.00</td>\n",
       "      <td>0</td>\n",
       "      <td>NaN</td>\n",
       "      <td>1.0</td>\n",
       "      <td>NaN</td>\n",
       "    </tr>\n",
       "    <tr>\n",
       "      <th>4</th>\n",
       "      <td>2018-10-22</td>\n",
       "      <td>2018-10-22</td>\n",
       "      <td>2018-10-09</td>\n",
       "      <td>19609894 BANCO DE LA PROVINCIA DE CORDOBA</td>\n",
       "      <td>ITATI S.R.L.</td>\n",
       "      <td>3693/03</td>\n",
       "      <td>Cheque Propio Diferido</td>\n",
       "      <td>NaN</td>\n",
       "      <td>BANCO DE LA PROVINCIA DE CORDOBA</td>\n",
       "      <td>Pesos</td>\n",
       "      <td>98645.73</td>\n",
       "      <td>0</td>\n",
       "      <td>NaN</td>\n",
       "      <td>1.0</td>\n",
       "      <td>NaN</td>\n",
       "    </tr>\n",
       "  </tbody>\n",
       "</table>\n",
       "</div>"
      ],
      "text/plain": [
       "  Fecha Estimada Fecha Vencimiento Fecha Emisión  \\\n",
       "0     2020-07-03        2020-07-03    2020-07-03   \n",
       "1     2018-12-07        2018-12-07    2018-11-09   \n",
       "2     2019-08-05        2019-08-05    2019-07-10   \n",
       "3     2017-07-10        2017-07-10    2017-03-20   \n",
       "4     2018-10-22        2018-10-22    2018-10-09   \n",
       "\n",
       "                                       Valor      Operador Comercial  \\\n",
       "0                                   20014863          ARCOR S.A.I.C.   \n",
       "1  19610000 BANCO DE LA PROVINCIA DE CORDOBA        BELTRAMO MARIELA   \n",
       "2                  90700789 BANCO MACRO S.A.        GUAL RUBEN DARIO   \n",
       "3  11219864 BANCO DE LA PROVINCIA DE CORDOBA  MININ MANUEL FRANCISCO   \n",
       "4  19609894 BANCO DE LA PROVINCIA DE CORDOBA            ITATI S.R.L.   \n",
       "\n",
       "      Caja/Cuenta/Persona              Tipo Valor  Estado  \\\n",
       "0  Retencion de Ganancias     Retencion Ganancias     NaN   \n",
       "1                 3693/03  Cheque Propio Diferido     NaN   \n",
       "2      3/378/0000624968/0  Cheque Propio Diferido     NaN   \n",
       "3                 3693/03  Cheque Propio Diferido     NaN   \n",
       "4                 3693/03  Cheque Propio Diferido     NaN   \n",
       "\n",
       "                              Banco Moneda   Importe  Número Interno Librador  \\\n",
       "0                               NaN  Pesos   1291.47               0      NaN   \n",
       "1  BANCO DE LA PROVINCIA DE CORDOBA  Pesos   1872.33               0      NaN   \n",
       "2                  BANCO MACRO S.A.  Pesos  21430.72               0      NaN   \n",
       "3  BANCO DE LA PROVINCIA DE CORDOBA  Pesos   8206.00               0      NaN   \n",
       "4  BANCO DE LA PROVINCIA DE CORDOBA  Pesos  98645.73               0      NaN   \n",
       "\n",
       "   Acréditado / Débitado  Esquema Operativo  \n",
       "0                    0.0                NaN  \n",
       "1                    1.0                NaN  \n",
       "2                    1.0                NaN  \n",
       "3                    1.0                NaN  \n",
       "4                    1.0                NaN  "
      ]
     },
     "execution_count": 3,
     "metadata": {},
     "output_type": "execute_result"
    }
   ],
   "source": [
    "# Importar archivo excel con el listado de los cheques totales del sistema de gestión(usados).\n",
    "data_ch = pd.read_excel(r\"C:\\Users\\User\\Documents\\GitHub\\DiploDatos\\Control_cheques_firmas\\vistaglobal.xlsx\")\n",
    "data_ch.head()"
   ]
  },
  {
   "cell_type": "code",
   "execution_count": 4,
   "id": "20ae6094",
   "metadata": {},
   "outputs": [],
   "source": [
    "# Construir una lista con los cheques firmados.\n",
    "listaA = data[\"cheques firmados\"].tolist()"
   ]
  },
  {
   "cell_type": "code",
   "execution_count": 5,
   "id": "9fc2656f",
   "metadata": {},
   "outputs": [
    {
     "data": {
      "text/plain": [
       "[29034926,\n",
       " 29034927,\n",
       " 29034928,\n",
       " 29034929,\n",
       " 29034930,\n",
       " 29034931,\n",
       " 29034932,\n",
       " 28569795,\n",
       " 28569796,\n",
       " 28569797,\n",
       " 28569832,\n",
       " 28569833,\n",
       " 28569834,\n",
       " 28569835,\n",
       " 28569836,\n",
       " 28569837]"
      ]
     },
     "execution_count": 5,
     "metadata": {},
     "output_type": "execute_result"
    }
   ],
   "source": [
    "listaA"
   ]
  },
  {
   "cell_type": "code",
   "execution_count": 6,
   "id": "26366171",
   "metadata": {},
   "outputs": [
    {
     "data": {
      "text/plain": [
       "16"
      ]
     },
     "execution_count": 6,
     "metadata": {},
     "output_type": "execute_result"
    }
   ],
   "source": [
    "len(listaA) "
   ]
  },
  {
   "cell_type": "code",
   "execution_count": 7,
   "id": "beb9894f",
   "metadata": {},
   "outputs": [
    {
     "data": {
      "text/html": [
       "<div>\n",
       "<style scoped>\n",
       "    .dataframe tbody tr th:only-of-type {\n",
       "        vertical-align: middle;\n",
       "    }\n",
       "\n",
       "    .dataframe tbody tr th {\n",
       "        vertical-align: top;\n",
       "    }\n",
       "\n",
       "    .dataframe thead th {\n",
       "        text-align: right;\n",
       "    }\n",
       "</style>\n",
       "<table border=\"1\" class=\"dataframe\">\n",
       "  <thead>\n",
       "    <tr style=\"text-align: right;\">\n",
       "      <th></th>\n",
       "      <th>N° Cheque</th>\n",
       "    </tr>\n",
       "  </thead>\n",
       "  <tbody>\n",
       "    <tr>\n",
       "      <th>0</th>\n",
       "      <td>20014863</td>\n",
       "    </tr>\n",
       "    <tr>\n",
       "      <th>1</th>\n",
       "      <td>19610000</td>\n",
       "    </tr>\n",
       "    <tr>\n",
       "      <th>2</th>\n",
       "      <td>90700789</td>\n",
       "    </tr>\n",
       "    <tr>\n",
       "      <th>3</th>\n",
       "      <td>11219864</td>\n",
       "    </tr>\n",
       "    <tr>\n",
       "      <th>4</th>\n",
       "      <td>19609894</td>\n",
       "    </tr>\n",
       "  </tbody>\n",
       "</table>\n",
       "</div>"
      ],
      "text/plain": [
       "  N° Cheque\n",
       "0  20014863\n",
       "1  19610000\n",
       "2  90700789\n",
       "3  11219864\n",
       "4  19609894"
      ]
     },
     "execution_count": 7,
     "metadata": {},
     "output_type": "execute_result"
    }
   ],
   "source": [
    "# Curación de los datos para crear un dataframe con el número de los cheques usados en la base de datos del sistema. \n",
    "valor_df = data_ch[\"Valor\"].str.split(expand=True)\n",
    "valor_df = valor_df.drop([1,2,3,4,5,6,7,8], axis=1)\n",
    "valor_df.columns.values.tolist()\n",
    "valor_df\n",
    "valor_df.columns = [\"N° Cheque\"]\n",
    "valor_df.head()"
   ]
  },
  {
   "cell_type": "code",
   "execution_count": 8,
   "id": "eb9e68ae",
   "metadata": {},
   "outputs": [],
   "source": [
    "# Crear una lista con la columna \"N° de cheque\" de los cheques de la base de datos del sistema.\n",
    "listaB = valor_df[\"N° Cheque\"].tolist()"
   ]
  },
  {
   "cell_type": "code",
   "execution_count": 9,
   "id": "23c0a4b7",
   "metadata": {},
   "outputs": [],
   "source": [
    "# Convertir a lista de enteros listaA.\n",
    "listaA = [str(i) for i in listaA]"
   ]
  },
  {
   "cell_type": "code",
   "execution_count": 10,
   "id": "b8813cf6",
   "metadata": {},
   "outputs": [],
   "source": [
    "# Crear listaC con los valores de las listaA encontrados en la listaB\n",
    "listaC = [x for x in listaB if x in listaA]"
   ]
  },
  {
   "cell_type": "code",
   "execution_count": 11,
   "id": "18b89136",
   "metadata": {},
   "outputs": [
    {
     "data": {
      "text/plain": [
       "['29034930']"
      ]
     },
     "execution_count": 11,
     "metadata": {},
     "output_type": "execute_result"
    }
   ],
   "source": [
    "# Indicar los cheques firmados que fueron utilizados y figuran en la base de datos del sistema.\n",
    "listaC "
   ]
  }
 ],
 "metadata": {
  "kernelspec": {
   "display_name": "Python 3 (ipykernel)",
   "language": "python",
   "name": "python3"
  },
  "language_info": {
   "codemirror_mode": {
    "name": "ipython",
    "version": 3
   },
   "file_extension": ".py",
   "mimetype": "text/x-python",
   "name": "python",
   "nbconvert_exporter": "python",
   "pygments_lexer": "ipython3",
   "version": "3.8.3"
  }
 },
 "nbformat": 4,
 "nbformat_minor": 5
}
