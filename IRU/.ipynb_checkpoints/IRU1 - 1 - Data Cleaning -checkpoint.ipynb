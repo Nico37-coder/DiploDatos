{
 "cells": [
  {
   "cell_type": "code",
   "execution_count": 1,
   "id": "86de9887",
   "metadata": {},
   "outputs": [],
   "source": [
    "import pandas as pd\n",
    "import numpy as np"
   ]
  },
  {
   "cell_type": "markdown",
   "id": "9598bb8c",
   "metadata": {},
   "source": [
    "# Análisis exploratorio de los datos y armado del informe"
   ]
  },
  {
   "cell_type": "markdown",
   "id": "a16224c9",
   "metadata": {},
   "source": [
    "**Pendientes**\n",
    "* Fecha poner en orden Ascendente\n",
    "* **Df0Totalizar** : Importe, Km.Cargas, Comisión **INVESTIGAR**\n",
    "* Completar salida a xls con demás solapas de equipos\n",
    "*Pensar como vincular a df2, df3, dfi los demás datos"
   ]
  },
  {
   "cell_type": "code",
   "execution_count": 2,
   "id": "e8f669f9",
   "metadata": {},
   "outputs": [
    {
     "data": {
      "text/html": [
       "<div>\n",
       "<style scoped>\n",
       "    .dataframe tbody tr th:only-of-type {\n",
       "        vertical-align: middle;\n",
       "    }\n",
       "\n",
       "    .dataframe tbody tr th {\n",
       "        vertical-align: top;\n",
       "    }\n",
       "\n",
       "    .dataframe thead th {\n",
       "        text-align: right;\n",
       "    }\n",
       "</style>\n",
       "<table border=\"1\" class=\"dataframe\">\n",
       "  <thead>\n",
       "    <tr style=\"text-align: right;\">\n",
       "      <th></th>\n",
       "      <th>Salida</th>\n",
       "      <th>Numero</th>\n",
       "      <th>Cliente</th>\n",
       "      <th>Importe</th>\n",
       "      <th>Factura</th>\n",
       "      <th>Origen</th>\n",
       "      <th>Destino</th>\n",
       "      <th>Fletero</th>\n",
       "      <th>Chofer</th>\n",
       "      <th>Equipo</th>\n",
       "      <th>Acoplado</th>\n",
       "      <th>Km.Cargas</th>\n",
       "      <th>Peso Real transportado</th>\n",
       "      <th>Tipo de Mercaderia</th>\n",
       "      <th>Comisión</th>\n",
       "      <th>Porcentaje Comisión</th>\n",
       "    </tr>\n",
       "  </thead>\n",
       "  <tbody>\n",
       "    <tr>\n",
       "      <th>0</th>\n",
       "      <td>2021-10-29</td>\n",
       "      <td>3041862.0</td>\n",
       "      <td>INGRECOR S.A.</td>\n",
       "      <td>124523.50</td>\n",
       "      <td>FaVen Nro.  001100001340 - Fecha 23-11-2021</td>\n",
       "      <td>ARROYITO-ARCOR</td>\n",
       "      <td>VIRREY DEL PINO-MANAOS</td>\n",
       "      <td>TRANSPORTE VIAR SA</td>\n",
       "      <td>QUIROGA LUCAS</td>\n",
       "      <td>OXJ862</td>\n",
       "      <td>IGN994</td>\n",
       "      <td>671.0</td>\n",
       "      <td>34640.0</td>\n",
       "      <td>GLUCOSA</td>\n",
       "      <td>38228.71450</td>\n",
       "      <td>30.7</td>\n",
       "    </tr>\n",
       "    <tr>\n",
       "      <th>1</th>\n",
       "      <td>2021-10-28</td>\n",
       "      <td>3041280.0</td>\n",
       "      <td>INGRECOR S.A.</td>\n",
       "      <td>127589.63</td>\n",
       "      <td>FaVen Nro.  001100001344 - Fecha 23-11-2021</td>\n",
       "      <td>TUCUMAN-ARCOR</td>\n",
       "      <td>ARROYITO-ARCOR</td>\n",
       "      <td>TRANSPORTE VIAR SA</td>\n",
       "      <td>QUIROGA LUCAS</td>\n",
       "      <td>OXJ862</td>\n",
       "      <td>IGN994</td>\n",
       "      <td>700.0</td>\n",
       "      <td>34360.0</td>\n",
       "      <td>GLUCOSA</td>\n",
       "      <td>39170.01641</td>\n",
       "      <td>30.7</td>\n",
       "    </tr>\n",
       "    <tr>\n",
       "      <th>2</th>\n",
       "      <td>2021-10-27</td>\n",
       "      <td>2816633.0</td>\n",
       "      <td>VACIO</td>\n",
       "      <td>0.00</td>\n",
       "      <td>NaN</td>\n",
       "      <td>RECREO-ARCOR</td>\n",
       "      <td>TUCUMAN-ARCOR</td>\n",
       "      <td>TRANSPORTE VIAR SA</td>\n",
       "      <td>QUIROGA LUCAS</td>\n",
       "      <td>OXJ862</td>\n",
       "      <td>IGN994</td>\n",
       "      <td>275.0</td>\n",
       "      <td>0.0</td>\n",
       "      <td>VACIOS</td>\n",
       "      <td>0.00000</td>\n",
       "      <td>30.7</td>\n",
       "    </tr>\n",
       "    <tr>\n",
       "      <th>3</th>\n",
       "      <td>2021-10-26</td>\n",
       "      <td>3040062.0</td>\n",
       "      <td>INGRECOR S.A.</td>\n",
       "      <td>56117.06</td>\n",
       "      <td>FaVen Nro.  001100001344 - Fecha 23-11-2021</td>\n",
       "      <td>TUCUMAN-ARCOR</td>\n",
       "      <td>RECREO-ARCOR</td>\n",
       "      <td>TRANSPORTE VIAR SA</td>\n",
       "      <td>QUIROGA LUCAS</td>\n",
       "      <td>OXJ862</td>\n",
       "      <td>IGN994</td>\n",
       "      <td>275.0</td>\n",
       "      <td>33760.0</td>\n",
       "      <td>GLUCOSA</td>\n",
       "      <td>17227.93742</td>\n",
       "      <td>30.7</td>\n",
       "    </tr>\n",
       "    <tr>\n",
       "      <th>4</th>\n",
       "      <td>2021-10-25</td>\n",
       "      <td>2816590.0</td>\n",
       "      <td>VACIO</td>\n",
       "      <td>0.00</td>\n",
       "      <td>NaN</td>\n",
       "      <td>CORDOBA-PRITY</td>\n",
       "      <td>TUCUMAN-ARCOR</td>\n",
       "      <td>TRANSPORTE VIAR SA</td>\n",
       "      <td>QUIROGA LUCAS</td>\n",
       "      <td>OXJ862</td>\n",
       "      <td>IGN994</td>\n",
       "      <td>560.0</td>\n",
       "      <td>0.0</td>\n",
       "      <td>VACIOS</td>\n",
       "      <td>0.00000</td>\n",
       "      <td>30.7</td>\n",
       "    </tr>\n",
       "  </tbody>\n",
       "</table>\n",
       "</div>"
      ],
      "text/plain": [
       "      Salida     Numero        Cliente    Importe  \\\n",
       "0 2021-10-29  3041862.0  INGRECOR S.A.  124523.50   \n",
       "1 2021-10-28  3041280.0  INGRECOR S.A.  127589.63   \n",
       "2 2021-10-27  2816633.0          VACIO       0.00   \n",
       "3 2021-10-26  3040062.0  INGRECOR S.A.   56117.06   \n",
       "4 2021-10-25  2816590.0          VACIO       0.00   \n",
       "\n",
       "                                       Factura          Origen  \\\n",
       "0  FaVen Nro.  001100001340 - Fecha 23-11-2021  ARROYITO-ARCOR   \n",
       "1  FaVen Nro.  001100001344 - Fecha 23-11-2021   TUCUMAN-ARCOR   \n",
       "2                                          NaN    RECREO-ARCOR   \n",
       "3  FaVen Nro.  001100001344 - Fecha 23-11-2021   TUCUMAN-ARCOR   \n",
       "4                                          NaN   CORDOBA-PRITY   \n",
       "\n",
       "                  Destino             Fletero         Chofer  Equipo Acoplado  \\\n",
       "0  VIRREY DEL PINO-MANAOS  TRANSPORTE VIAR SA  QUIROGA LUCAS  OXJ862   IGN994   \n",
       "1          ARROYITO-ARCOR  TRANSPORTE VIAR SA  QUIROGA LUCAS  OXJ862   IGN994   \n",
       "2           TUCUMAN-ARCOR  TRANSPORTE VIAR SA  QUIROGA LUCAS  OXJ862   IGN994   \n",
       "3            RECREO-ARCOR  TRANSPORTE VIAR SA  QUIROGA LUCAS  OXJ862   IGN994   \n",
       "4           TUCUMAN-ARCOR  TRANSPORTE VIAR SA  QUIROGA LUCAS  OXJ862   IGN994   \n",
       "\n",
       "   Km.Cargas  Peso Real transportado Tipo de Mercaderia     Comisión  \\\n",
       "0      671.0                 34640.0            GLUCOSA  38228.71450   \n",
       "1      700.0                 34360.0            GLUCOSA  39170.01641   \n",
       "2      275.0                     0.0             VACIOS      0.00000   \n",
       "3      275.0                 33760.0            GLUCOSA  17227.93742   \n",
       "4      560.0                     0.0             VACIOS      0.00000   \n",
       "\n",
       "   Porcentaje Comisión  \n",
       "0                 30.7  \n",
       "1                 30.7  \n",
       "2                 30.7  \n",
       "3                 30.7  \n",
       "4                 30.7  "
      ]
     },
     "execution_count": 2,
     "metadata": {},
     "output_type": "execute_result"
    }
   ],
   "source": [
    "# Concatenar en un df todas las hojas del excel\n",
    "data = pd.concat(pd.read_excel\n",
    "                 (r\"C:\\Users\\User\\Documents\\GitHub\\Robot Viar\\IRU\\PPC\\Octubre BASE Inf Rentabilidad.xlsx\", sheet_name=None),\n",
    "                 ignore_index=True)\n",
    "data.head()"
   ]
  },
  {
   "cell_type": "code",
   "execution_count": 3,
   "id": "443bb385",
   "metadata": {},
   "outputs": [
    {
     "data": {
      "text/plain": [
       "(931, 16)"
      ]
     },
     "execution_count": 3,
     "metadata": {},
     "output_type": "execute_result"
    }
   ],
   "source": [
    "data.shape"
   ]
  },
  {
   "cell_type": "code",
   "execution_count": 4,
   "id": "d2bbef8d",
   "metadata": {},
   "outputs": [
    {
     "name": "stdout",
     "output_type": "stream",
     "text": [
      "<class 'pandas._libs.tslibs.timestamps.Timestamp'>\n",
      "<class 'pandas._libs.tslibs.timestamps.Timestamp'>\n"
     ]
    },
    {
     "data": {
      "text/html": [
       "<div>\n",
       "<style scoped>\n",
       "    .dataframe tbody tr th:only-of-type {\n",
       "        vertical-align: middle;\n",
       "    }\n",
       "\n",
       "    .dataframe tbody tr th {\n",
       "        vertical-align: top;\n",
       "    }\n",
       "\n",
       "    .dataframe thead th {\n",
       "        text-align: right;\n",
       "    }\n",
       "</style>\n",
       "<table border=\"1\" class=\"dataframe\">\n",
       "  <thead>\n",
       "    <tr style=\"text-align: right;\">\n",
       "      <th></th>\n",
       "      <th>Salida</th>\n",
       "      <th>Numero</th>\n",
       "      <th>Cliente</th>\n",
       "      <th>Importe</th>\n",
       "      <th>Factura</th>\n",
       "      <th>Origen</th>\n",
       "      <th>Destino</th>\n",
       "      <th>Fletero</th>\n",
       "      <th>Chofer</th>\n",
       "      <th>Equipo</th>\n",
       "      <th>Acoplado</th>\n",
       "      <th>Km.Cargas</th>\n",
       "      <th>Peso Real transportado</th>\n",
       "      <th>Tipo de Mercaderia</th>\n",
       "      <th>Comisión</th>\n",
       "      <th>Porcentaje Comisión</th>\n",
       "    </tr>\n",
       "  </thead>\n",
       "  <tbody>\n",
       "    <tr>\n",
       "      <th>0</th>\n",
       "      <td>2021-10-29</td>\n",
       "      <td>3041862.0</td>\n",
       "      <td>INGRECOR S.A.</td>\n",
       "      <td>124523.50</td>\n",
       "      <td>FaVen Nro.  001100001340 - Fecha 23-11-2021</td>\n",
       "      <td>ARROYITO-ARCOR</td>\n",
       "      <td>VIRREY DEL PINO-MANAOS</td>\n",
       "      <td>TRANSPORTE VIAR SA</td>\n",
       "      <td>QUIROGA LUCAS</td>\n",
       "      <td>OXJ862</td>\n",
       "      <td>IGN994</td>\n",
       "      <td>671.0</td>\n",
       "      <td>34640.0</td>\n",
       "      <td>GLUCOSA</td>\n",
       "      <td>38228.71450</td>\n",
       "      <td>30.7</td>\n",
       "    </tr>\n",
       "    <tr>\n",
       "      <th>1</th>\n",
       "      <td>2021-10-28</td>\n",
       "      <td>3041280.0</td>\n",
       "      <td>INGRECOR S.A.</td>\n",
       "      <td>127589.63</td>\n",
       "      <td>FaVen Nro.  001100001344 - Fecha 23-11-2021</td>\n",
       "      <td>TUCUMAN-ARCOR</td>\n",
       "      <td>ARROYITO-ARCOR</td>\n",
       "      <td>TRANSPORTE VIAR SA</td>\n",
       "      <td>QUIROGA LUCAS</td>\n",
       "      <td>OXJ862</td>\n",
       "      <td>IGN994</td>\n",
       "      <td>700.0</td>\n",
       "      <td>34360.0</td>\n",
       "      <td>GLUCOSA</td>\n",
       "      <td>39170.01641</td>\n",
       "      <td>30.7</td>\n",
       "    </tr>\n",
       "    <tr>\n",
       "      <th>2</th>\n",
       "      <td>2021-10-27</td>\n",
       "      <td>2816633.0</td>\n",
       "      <td>VACIO</td>\n",
       "      <td>0.00</td>\n",
       "      <td>NaN</td>\n",
       "      <td>RECREO-ARCOR</td>\n",
       "      <td>TUCUMAN-ARCOR</td>\n",
       "      <td>TRANSPORTE VIAR SA</td>\n",
       "      <td>QUIROGA LUCAS</td>\n",
       "      <td>OXJ862</td>\n",
       "      <td>IGN994</td>\n",
       "      <td>275.0</td>\n",
       "      <td>0.0</td>\n",
       "      <td>VACIOS</td>\n",
       "      <td>0.00000</td>\n",
       "      <td>30.7</td>\n",
       "    </tr>\n",
       "    <tr>\n",
       "      <th>3</th>\n",
       "      <td>2021-10-26</td>\n",
       "      <td>3040062.0</td>\n",
       "      <td>INGRECOR S.A.</td>\n",
       "      <td>56117.06</td>\n",
       "      <td>FaVen Nro.  001100001344 - Fecha 23-11-2021</td>\n",
       "      <td>TUCUMAN-ARCOR</td>\n",
       "      <td>RECREO-ARCOR</td>\n",
       "      <td>TRANSPORTE VIAR SA</td>\n",
       "      <td>QUIROGA LUCAS</td>\n",
       "      <td>OXJ862</td>\n",
       "      <td>IGN994</td>\n",
       "      <td>275.0</td>\n",
       "      <td>33760.0</td>\n",
       "      <td>GLUCOSA</td>\n",
       "      <td>17227.93742</td>\n",
       "      <td>30.7</td>\n",
       "    </tr>\n",
       "    <tr>\n",
       "      <th>4</th>\n",
       "      <td>2021-10-25</td>\n",
       "      <td>2816590.0</td>\n",
       "      <td>VACIO</td>\n",
       "      <td>0.00</td>\n",
       "      <td>NaN</td>\n",
       "      <td>CORDOBA-PRITY</td>\n",
       "      <td>TUCUMAN-ARCOR</td>\n",
       "      <td>TRANSPORTE VIAR SA</td>\n",
       "      <td>QUIROGA LUCAS</td>\n",
       "      <td>OXJ862</td>\n",
       "      <td>IGN994</td>\n",
       "      <td>560.0</td>\n",
       "      <td>0.0</td>\n",
       "      <td>VACIOS</td>\n",
       "      <td>0.00000</td>\n",
       "      <td>30.7</td>\n",
       "    </tr>\n",
       "  </tbody>\n",
       "</table>\n",
       "</div>"
      ],
      "text/plain": [
       "      Salida     Numero        Cliente    Importe  \\\n",
       "0 2021-10-29  3041862.0  INGRECOR S.A.  124523.50   \n",
       "1 2021-10-28  3041280.0  INGRECOR S.A.  127589.63   \n",
       "2 2021-10-27  2816633.0          VACIO       0.00   \n",
       "3 2021-10-26  3040062.0  INGRECOR S.A.   56117.06   \n",
       "4 2021-10-25  2816590.0          VACIO       0.00   \n",
       "\n",
       "                                       Factura          Origen  \\\n",
       "0  FaVen Nro.  001100001340 - Fecha 23-11-2021  ARROYITO-ARCOR   \n",
       "1  FaVen Nro.  001100001344 - Fecha 23-11-2021   TUCUMAN-ARCOR   \n",
       "2                                          NaN    RECREO-ARCOR   \n",
       "3  FaVen Nro.  001100001344 - Fecha 23-11-2021   TUCUMAN-ARCOR   \n",
       "4                                          NaN   CORDOBA-PRITY   \n",
       "\n",
       "                  Destino             Fletero         Chofer  Equipo Acoplado  \\\n",
       "0  VIRREY DEL PINO-MANAOS  TRANSPORTE VIAR SA  QUIROGA LUCAS  OXJ862   IGN994   \n",
       "1          ARROYITO-ARCOR  TRANSPORTE VIAR SA  QUIROGA LUCAS  OXJ862   IGN994   \n",
       "2           TUCUMAN-ARCOR  TRANSPORTE VIAR SA  QUIROGA LUCAS  OXJ862   IGN994   \n",
       "3            RECREO-ARCOR  TRANSPORTE VIAR SA  QUIROGA LUCAS  OXJ862   IGN994   \n",
       "4           TUCUMAN-ARCOR  TRANSPORTE VIAR SA  QUIROGA LUCAS  OXJ862   IGN994   \n",
       "\n",
       "   Km.Cargas  Peso Real transportado Tipo de Mercaderia     Comisión  \\\n",
       "0      671.0                 34640.0            GLUCOSA  38228.71450   \n",
       "1      700.0                 34360.0            GLUCOSA  39170.01641   \n",
       "2      275.0                     0.0             VACIOS      0.00000   \n",
       "3      275.0                 33760.0            GLUCOSA  17227.93742   \n",
       "4      560.0                     0.0             VACIOS      0.00000   \n",
       "\n",
       "   Porcentaje Comisión  \n",
       "0                 30.7  \n",
       "1                 30.7  \n",
       "2                 30.7  \n",
       "3                 30.7  \n",
       "4                 30.7  "
      ]
     },
     "execution_count": 4,
     "metadata": {},
     "output_type": "execute_result"
    }
   ],
   "source": [
    "# Formatear a datatime  \"Salida\"\n",
    "print(type(data.Salida[0]))   \n",
    "data['Salida'] = pd.to_datetime(data['Salida'])   \n",
    "print(type(data.Salida[0]))\n",
    "\n",
    "# Ordenar en forma ascendente la fechas \n",
    "data.sort_values(by='Salida',ascending=True) # ver porque no lo pone en forma ascendente\n",
    "data.head()"
   ]
  },
  {
   "cell_type": "markdown",
   "id": "55e68b13",
   "metadata": {},
   "source": [
    "##  Generar un archivo excel por cada equipo"
   ]
  },
  {
   "cell_type": "code",
   "execution_count": 5,
   "id": "2257cc85",
   "metadata": {},
   "outputs": [
    {
     "data": {
      "text/plain": [
       "array(['OXJ862', nan, 'ORO021', 'OMA273', 'MMN880', 'MMN838', 'MBP526',\n",
       "       'MAV483', 'LUY734', 'KWO766', 'KSS334', 'KSL959', 'KOL760',\n",
       "       'KOE220', 'KNQ676', 'KNA501', 'KMU569', 'KHL103', 'KGF058',\n",
       "       'JZP219', 'JRY934', 'JJA110', 'IIJ763', 'HZG214', 'HWF026',\n",
       "       'HWF024', 'HVW275', 'HVE658', 'HPJ126', 'FWT827', 'AE502ET',\n",
       "       'AD864HO', 'AD533SA', 'AD414GZ', 'AD414GY', 'AC377BI', 'AC136AZ',\n",
       "       'AC121PK', 'AC121PJ', 'AC121PI', 'AC121PH', 'AB687SH', 'AB631DS',\n",
       "       'AB595CA', 'AB206GS', 'AA996WC', 'AA702TE', 'AA612XR', 'AA327US'],\n",
       "      dtype=object)"
      ]
     },
     "execution_count": 5,
     "metadata": {},
     "output_type": "execute_result"
    }
   ],
   "source": [
    "data.Equipo.unique()"
   ]
  },
  {
   "cell_type": "code",
   "execution_count": 6,
   "id": "d4219732",
   "metadata": {},
   "outputs": [
    {
     "data": {
      "text/plain": [
       "49"
      ]
     },
     "execution_count": 6,
     "metadata": {},
     "output_type": "execute_result"
    }
   ],
   "source": [
    "len(data.Equipo.unique())"
   ]
  },
  {
   "cell_type": "code",
   "execution_count": 7,
   "id": "6887303a",
   "metadata": {},
   "outputs": [],
   "source": [
    "#data[data[\"Equipo\"]=='OXJ862']"
   ]
  },
  {
   "cell_type": "code",
   "execution_count": 8,
   "id": "452e823a",
   "metadata": {},
   "outputs": [],
   "source": [
    "\n",
    "#for i in data.Equipo.unique():      # por cada uno de los equipos iterables en unique\n",
    "    #data2=data[data[\"Equipo\"]==i]   # \n",
    "    #data2.to_excel(f\"{i}.xlsx\", index=False)\n",
    "\n"
   ]
  },
  {
   "cell_type": "code",
   "execution_count": 9,
   "id": "2b16dd17",
   "metadata": {},
   "outputs": [],
   "source": [
    "#data[data[\"Equipo\"]=='OXJ862']"
   ]
  },
  {
   "cell_type": "code",
   "execution_count": 10,
   "id": "001cd2d8",
   "metadata": {},
   "outputs": [],
   "source": [
    "#data2.shape"
   ]
  },
  {
   "cell_type": "markdown",
   "id": "8b810dd3",
   "metadata": {},
   "source": [
    "## Ordenar solapas en excel: "
   ]
  },
  {
   "cell_type": "code",
   "execution_count": 11,
   "id": "bf10e350",
   "metadata": {},
   "outputs": [],
   "source": [
    "# Generar dataframes por cada EQUIPO"
   ]
  },
  {
   "cell_type": "code",
   "execution_count": 12,
   "id": "cdb0e510",
   "metadata": {},
   "outputs": [
    {
     "data": {
      "text/plain": [
       "array(['OXJ862', nan, 'ORO021', 'OMA273', 'MMN880', 'MMN838', 'MBP526',\n",
       "       'MAV483', 'LUY734', 'KWO766', 'KSS334', 'KSL959', 'KOL760',\n",
       "       'KOE220', 'KNQ676', 'KNA501', 'KMU569', 'KHL103', 'KGF058',\n",
       "       'JZP219', 'JRY934', 'JJA110', 'IIJ763', 'HZG214', 'HWF026',\n",
       "       'HWF024', 'HVW275', 'HVE658', 'HPJ126', 'FWT827', 'AE502ET',\n",
       "       'AD864HO', 'AD533SA', 'AD414GZ', 'AD414GY', 'AC377BI', 'AC136AZ',\n",
       "       'AC121PK', 'AC121PJ', 'AC121PI', 'AC121PH', 'AB687SH', 'AB631DS',\n",
       "       'AB595CA', 'AB206GS', 'AA996WC', 'AA702TE', 'AA612XR', 'AA327US'],\n",
       "      dtype=object)"
      ]
     },
     "execution_count": 12,
     "metadata": {},
     "output_type": "execute_result"
    }
   ],
   "source": [
    "data.Equipo.unique()"
   ]
  },
  {
   "cell_type": "code",
   "execution_count": 13,
   "id": "1284fc54",
   "metadata": {},
   "outputs": [
    {
     "data": {
      "text/html": [
       "<div>\n",
       "<style scoped>\n",
       "    .dataframe tbody tr th:only-of-type {\n",
       "        vertical-align: middle;\n",
       "    }\n",
       "\n",
       "    .dataframe tbody tr th {\n",
       "        vertical-align: top;\n",
       "    }\n",
       "\n",
       "    .dataframe thead th {\n",
       "        text-align: right;\n",
       "    }\n",
       "</style>\n",
       "<table border=\"1\" class=\"dataframe\">\n",
       "  <thead>\n",
       "    <tr style=\"text-align: right;\">\n",
       "      <th></th>\n",
       "      <th>Equipo</th>\n",
       "      <th>Nombre_hoja</th>\n",
       "    </tr>\n",
       "  </thead>\n",
       "  <tbody>\n",
       "    <tr>\n",
       "      <th>1</th>\n",
       "      <td>AC121PH</td>\n",
       "      <td>AC121PH_VIAR</td>\n",
       "    </tr>\n",
       "    <tr>\n",
       "      <th>2</th>\n",
       "      <td>AC121PI</td>\n",
       "      <td>AC121PI_VIAR</td>\n",
       "    </tr>\n",
       "    <tr>\n",
       "      <th>3</th>\n",
       "      <td>AC121PJ</td>\n",
       "      <td>AC121PJ_VIAR</td>\n",
       "    </tr>\n",
       "    <tr>\n",
       "      <th>4</th>\n",
       "      <td>AC121PK</td>\n",
       "      <td>AC121PK_VIAR</td>\n",
       "    </tr>\n",
       "    <tr>\n",
       "      <th>5</th>\n",
       "      <td>AD414GY</td>\n",
       "      <td>AD414GY_VIAR</td>\n",
       "    </tr>\n",
       "  </tbody>\n",
       "</table>\n",
       "</div>"
      ],
      "text/plain": [
       "    Equipo   Nombre_hoja\n",
       "1  AC121PH  AC121PH_VIAR\n",
       "2  AC121PI  AC121PI_VIAR\n",
       "3  AC121PJ  AC121PJ_VIAR\n",
       "4  AC121PK  AC121PK_VIAR\n",
       "5  AD414GY  AD414GY_VIAR"
      ]
     },
     "execution_count": 13,
     "metadata": {},
     "output_type": "execute_result"
    }
   ],
   "source": [
    "orden_solapas = pd.read_excel(r\"C:\\Users\\User\\Documents\\GitHub\\Robot Viar\\IRU\\PPC\\orden_solapas.xlsx\")\n",
    "orden_solapas = orden_solapas.drop(orden_solapas.index[[0]])\n",
    "orden_solapas.columns = [\"Equipo\", \"Nombre_hoja\"]\n",
    "orden_solapas.head()"
   ]
  },
  {
   "cell_type": "code",
   "execution_count": 14,
   "id": "2a016bf3",
   "metadata": {},
   "outputs": [],
   "source": [
    "#orden_solapas.Equipo.unique"
   ]
  },
  {
   "cell_type": "code",
   "execution_count": 15,
   "id": "9cc544a8",
   "metadata": {},
   "outputs": [],
   "source": [
    "AC121PH = data[data[\"Equipo\"]=='AC121PH']\n",
    "#AC121PH.tail()\n",
    "#len(AC121PH)"
   ]
  },
  {
   "cell_type": "code",
   "execution_count": 16,
   "id": "349abc47",
   "metadata": {},
   "outputs": [],
   "source": [
    "# Crear dataframes indiciduales por cada Equipo\n",
    "AC121PH = data[data[\"Equipo\"]=='AC121PH']\n",
    "AC121PI = data[data[\"Equipo\"]=='AC121PI']\n",
    "AC121PJ = data[data[\"Equipo\"]=='AC121PJ']\n",
    "AC121PK = data[data[\"Equipo\"]=='AC121PK']\n",
    "AD414GY = data[data[\"Equipo\"]=='AD414GY']\n",
    "AD414GZ = data[data[\"Equipo\"]=='AD414GZ']\n",
    "AD533SA = data[data[\"Equipo\"]=='AD533SA']\n",
    "FWT827 = data[data[\"Equipo\"]=='FWT827']\n",
    "HWF024 = data[data[\"Equipo\"]=='HWF024']\n",
    "HWF026 = data[data[\"Equipo\"]=='HWF026']\n",
    "JRY934 = data[data[\"Equipo\"]=='JRY934']\n",
    "JZP219 = data[data[\"Equipo\"]=='JZP219']\n",
    "KMU569 = data[data[\"Equipo\"]=='KMU569']\n",
    "KOE278 = data[data[\"Equipo\"]=='KOE278']\n",
    "KOL760 = data[data[\"Equipo\"]=='KOL760']\n",
    "KWO766 = data[data[\"Equipo\"]=='KWO766']\n",
    "LUY734 = data[data[\"Equipo\"]=='LUY734']\n",
    "MAV483 = data[data[\"Equipo\"]=='MAV483']\n",
    "MMN838 = data[data[\"Equipo\"]=='MMN838']\n",
    "ORO021 = data[data[\"Equipo\"]=='ORO021']\n",
    "OXJ862 = data[data[\"Equipo\"]=='OXJ862']\n",
    "KHL103 = data[data[\"Equipo\"]=='KHL103']\n",
    "EKW438 = data[data[\"Equipo\"]=='EKW438']\n",
    "KSS334 = data[data[\"Equipo\"]=='KSS334']\n",
    "KNA501 = data[data[\"Equipo\"]=='KNA501']\n",
    "HPJ126 = data[data[\"Equipo\"]=='HPJ126']\n",
    "MMN880 = data[data[\"Equipo\"]=='MMN880']\n",
    "JJA110 = data[data[\"Equipo\"]=='JJA110']\n",
    "AA702TE = data[data[\"Equipo\"]=='AA702TE']\n",
    "AB595CA = data[data[\"Equipo\"]=='AB595CA']\n",
    "FWT826 = data[data[\"Equipo\"]=='FWT826']\n",
    "KOE220 = data[data[\"Equipo\"]=='KOE220']\n",
    "KSL959 = data[data[\"Equipo\"]=='KSL959']\n",
    "AA996WC = data[data[\"Equipo\"]=='AA996WC']\n",
    "AD864HO = data[data[\"Equipo\"]=='AD864HO']\n",
    "AC377BI = data[data[\"Equipo\"]=='AC377BI']\n",
    "AA612XR = data[data[\"Equipo\"]=='AA612XR']\n",
    "HVE658 = data[data[\"Equipo\"]=='HVE658']\n",
    "KNQ676 = data[data[\"Equipo\"]=='KNQ676']\n",
    "OMA273 = data[data[\"Equipo\"]=='OMA273']\n",
    "KGF058 = data[data[\"Equipo\"]=='KGF058']\n",
    "AE502ET = data[data[\"Equipo\"]=='AE502ET']\n",
    "MBP526 = data[data[\"Equipo\"]=='MBP526']\n",
    "AB206GS = data[data[\"Equipo\"]=='AB206GS']\n",
    "AA327US = data[data[\"Equipo\"]=='AA327US']\n",
    "AB631DS = data[data[\"Equipo\"]=='AB631DS']\n",
    "HVW275 = data[data[\"Equipo\"]=='HVW275']\n",
    "HZG214 = data[data[\"Equipo\"]=='HZG214']\n",
    "IIJ763 = data[data[\"Equipo\"]=='IIJ763']\n",
    "AB687SH = data[data[\"Equipo\"]=='AB687SH']\n",
    "AC136AZ = data[data[\"Equipo\"]=='AC136AZ']\n"
   ]
  },
  {
   "cell_type": "code",
   "execution_count": 17,
   "id": "85cfd372",
   "metadata": {},
   "outputs": [],
   "source": [
    "#orden_solapas.Nombre_hoja.unique"
   ]
  },
  {
   "cell_type": "code",
   "execution_count": 18,
   "id": "a25aa3f7",
   "metadata": {},
   "outputs": [],
   "source": [
    "# Intento totalizador por filas error\n",
    "#AC121PH.loc[\"Total\"] = AC121PH.sum(axis=0)\n",
    "#AC121PH.tail()"
   ]
  },
  {
   "cell_type": "markdown",
   "id": "03661864",
   "metadata": {},
   "source": [
    "df2: T. prom x Kms/Consumo Lts./Cons. c/100 Km/Precio por Litro/Incidencia Combustible/Incidencia Sueldo/Días parados"
   ]
  },
  {
   "cell_type": "code",
   "execution_count": 19,
   "id": "845b4d7e",
   "metadata": {},
   "outputs": [
    {
     "data": {
      "text/html": [
       "<div>\n",
       "<style scoped>\n",
       "    .dataframe tbody tr th:only-of-type {\n",
       "        vertical-align: middle;\n",
       "    }\n",
       "\n",
       "    .dataframe tbody tr th {\n",
       "        vertical-align: top;\n",
       "    }\n",
       "\n",
       "    .dataframe thead th {\n",
       "        text-align: right;\n",
       "    }\n",
       "</style>\n",
       "<table border=\"1\" class=\"dataframe\">\n",
       "  <thead>\n",
       "    <tr style=\"text-align: right;\">\n",
       "      <th></th>\n",
       "      <th>T. prom x Kms</th>\n",
       "      <th>Consumo Lts.</th>\n",
       "      <th>Cons. c/100 Km</th>\n",
       "      <th>Precio por Litro</th>\n",
       "      <th>Incidencia Combustible</th>\n",
       "      <th>Incidencia Sueldo</th>\n",
       "      <th>Días parados</th>\n",
       "    </tr>\n",
       "  </thead>\n",
       "  <tbody>\n",
       "  </tbody>\n",
       "</table>\n",
       "</div>"
      ],
      "text/plain": [
       "Empty DataFrame\n",
       "Columns: [T. prom x Kms, Consumo Lts., Cons. c/100 Km, Precio por Litro, Incidencia Combustible, Incidencia Sueldo, Días parados]\n",
       "Index: []"
      ]
     },
     "execution_count": 19,
     "metadata": {},
     "output_type": "execute_result"
    }
   ],
   "source": [
    "# Crear df2.\n",
    "df2 = pd.DataFrame( columns=[\"T. prom x Kms\", \"Consumo Lts.\", \"Cons. c/100 Km\", \"Precio por Litro\",\n",
    "                             \"Incidencia Combustible\", \"Incidencia Sueldo\", \"Días parados\"])\n",
    "df2.head()"
   ]
  },
  {
   "cell_type": "markdown",
   "id": "ea3e1a9e",
   "metadata": {},
   "source": [
    "df3: TRACTOR SEMI\n",
    "\n",
    " Facturado\n",
    " Comisión\n",
    " Cubiertas\n",
    " Combustible\n",
    " UREA\n",
    " Patente Pcial.\n",
    " Patente Munic.\n",
    " Seguro\n",
    " Sueldo\n",
    " Gastos\n",
    " TOTAL GASTOS\n",
    " NETO"
   ]
  },
  {
   "cell_type": "code",
   "execution_count": 20,
   "id": "5d4721c0",
   "metadata": {},
   "outputs": [
    {
     "data": {
      "text/html": [
       "<div>\n",
       "<style scoped>\n",
       "    .dataframe tbody tr th:only-of-type {\n",
       "        vertical-align: middle;\n",
       "    }\n",
       "\n",
       "    .dataframe tbody tr th {\n",
       "        vertical-align: top;\n",
       "    }\n",
       "\n",
       "    .dataframe thead th {\n",
       "        text-align: right;\n",
       "    }\n",
       "</style>\n",
       "<table border=\"1\" class=\"dataframe\">\n",
       "  <thead>\n",
       "    <tr style=\"text-align: right;\">\n",
       "      <th></th>\n",
       "      <th>TRACTOR</th>\n",
       "      <th>SEMI</th>\n",
       "    </tr>\n",
       "  </thead>\n",
       "  <tbody>\n",
       "    <tr>\n",
       "      <th>Facturado</th>\n",
       "      <td>NaN</td>\n",
       "      <td>NaN</td>\n",
       "    </tr>\n",
       "    <tr>\n",
       "      <th>Comisión</th>\n",
       "      <td>NaN</td>\n",
       "      <td>NaN</td>\n",
       "    </tr>\n",
       "    <tr>\n",
       "      <th>Cubiertas</th>\n",
       "      <td>NaN</td>\n",
       "      <td>NaN</td>\n",
       "    </tr>\n",
       "    <tr>\n",
       "      <th>Combustible</th>\n",
       "      <td>NaN</td>\n",
       "      <td>NaN</td>\n",
       "    </tr>\n",
       "    <tr>\n",
       "      <th>UREA</th>\n",
       "      <td>NaN</td>\n",
       "      <td>NaN</td>\n",
       "    </tr>\n",
       "    <tr>\n",
       "      <th>Patente Pcial</th>\n",
       "      <td>NaN</td>\n",
       "      <td>NaN</td>\n",
       "    </tr>\n",
       "    <tr>\n",
       "      <th>Patente Munici.</th>\n",
       "      <td>NaN</td>\n",
       "      <td>NaN</td>\n",
       "    </tr>\n",
       "    <tr>\n",
       "      <th>Seguro</th>\n",
       "      <td>NaN</td>\n",
       "      <td>NaN</td>\n",
       "    </tr>\n",
       "    <tr>\n",
       "      <th>Gastos</th>\n",
       "      <td>NaN</td>\n",
       "      <td>NaN</td>\n",
       "    </tr>\n",
       "    <tr>\n",
       "      <th>TOTAL GASTOS</th>\n",
       "      <td>NaN</td>\n",
       "      <td>NaN</td>\n",
       "    </tr>\n",
       "    <tr>\n",
       "      <th>NETO</th>\n",
       "      <td>NaN</td>\n",
       "      <td>NaN</td>\n",
       "    </tr>\n",
       "  </tbody>\n",
       "</table>\n",
       "</div>"
      ],
      "text/plain": [
       "                TRACTOR SEMI\n",
       "Facturado           NaN  NaN\n",
       "Comisión            NaN  NaN\n",
       "Cubiertas           NaN  NaN\n",
       "Combustible         NaN  NaN\n",
       "UREA                NaN  NaN\n",
       "Patente Pcial       NaN  NaN\n",
       "Patente Munici.     NaN  NaN\n",
       "Seguro              NaN  NaN\n",
       "Gastos              NaN  NaN\n",
       "TOTAL GASTOS        NaN  NaN\n",
       "NETO                NaN  NaN"
      ]
     },
     "execution_count": 20,
     "metadata": {},
     "output_type": "execute_result"
    }
   ],
   "source": [
    "# Crear df3.\n",
    "df3 = pd.DataFrame(columns=[\"TRACTOR\", \"SEMI\"], index=[\"Facturado\", \"Comisión\", \"Cubiertas\", \"Combustible\", \"UREA\",\n",
    "                                                       \"Patente Pcial\", \"Patente Munici.\", \"Seguro\", \"Gastos\",\n",
    "                                                       \"TOTAL GASTOS\", \"NETO\", \n",
    "])\n",
    "df3.head(11)"
   ]
  },
  {
   "cell_type": "code",
   "execution_count": 21,
   "id": "ab291513",
   "metadata": {},
   "outputs": [],
   "source": [
    "# Exportar a excel el informe.\n",
    "with pd.ExcelWriter(r'C:\\Users\\User\\Documents\\GitHub\\Robot Viar\\IRU\\Outputs\\Inf_rent_unid.xlsx') as writer:  \n",
    "    AC121PH.to_excel(writer, sheet_name='AC121PH_VIAR',startrow=2, index= False)\n",
    "    df2.to_excel(writer, sheet_name='AC121PH_VIAR', startrow=33,index= False) \n",
    "    df3.to_excel(writer, sheet_name='AC121PH_VIAR', startrow=36)\n",
    "    \n",
    "    AC121PJ.to_excel(writer, sheet_name='AC121PJ_VIAR', startrow=2, index= False)\n",
    "    df2.to_excel(writer, sheet_name='AC121PJ_VIAR', startrow=33,index= False)\n",
    "    df3.to_excel(writer, sheet_name='AC121PJ_VIAR', startrow=36)"
   ]
  },
  {
   "cell_type": "code",
   "execution_count": null,
   "id": "ae271b74",
   "metadata": {},
   "outputs": [],
   "source": []
  }
 ],
 "metadata": {
  "kernelspec": {
   "display_name": "Python 3 (ipykernel)",
   "language": "python",
   "name": "python3"
  },
  "language_info": {
   "codemirror_mode": {
    "name": "ipython",
    "version": 3
   },
   "file_extension": ".py",
   "mimetype": "text/x-python",
   "name": "python",
   "nbconvert_exporter": "python",
   "pygments_lexer": "ipython3",
   "version": "3.8.3"
  }
 },
 "nbformat": 4,
 "nbformat_minor": 5
}
